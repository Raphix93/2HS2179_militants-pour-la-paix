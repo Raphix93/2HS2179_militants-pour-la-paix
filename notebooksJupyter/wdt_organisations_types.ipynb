{
 "cells": [
  {
   "cell_type": "markdown",
   "metadata": {},
   "source": [
    "# Types d'organisations\n",
    "\n",
    "\n",
    "  \n",
    "* *Exploratory SNA* book's chapter 5 about 'Affiliations'\n",
    "* Cf. [this notebook](https://github.com/Sciences-historiques-numeriques/histoire_numerique_methodes/blob/main/analyse_reseaux/pajek_book/chapter5_affiliations.ipynb) \n",
    "\n"
   ]
  },
  {
   "cell_type": "code",
   "execution_count": 1,
   "metadata": {},
   "outputs": [],
   "source": [
    "### Librairie à installer dans l'environnement conda (si on exécute en local)\n",
    "# qui sera choisi pour exécuter le carnet\n",
    "\n",
    "%matplotlib inline\n",
    "\n",
    "from SPARQLWrapper import SPARQLWrapper, JSON, TURTLE, XML, RDFXML\n",
    "import pandas as pd\n",
    "\n",
    "import scipy.stats as stats\n",
    "\n",
    "import networkx as nx\n",
    "from networkx.algorithms import bipartite\n",
    "\n",
    "import matplotlib.pyplot as plt\n",
    "import matplotlib.patches as patches\n",
    "\n",
    "import numpy as np\n",
    "import seaborn as sns\n",
    "import math\n",
    "import os"
   ]
  },
  {
   "cell_type": "code",
   "execution_count": 2,
   "metadata": {},
   "outputs": [],
   "source": [
    "### Librairies déjà installées avec Python\n",
    "import pprint\n",
    "import csv\n",
    "\n",
    "import sqlite3 as sql\n",
    "\n",
    "import time\n",
    "import datetime\n",
    "from dateutil import parser\n",
    "\n",
    "\n",
    "from shutil import copyfile\n"
   ]
  },
  {
   "cell_type": "code",
   "execution_count": 3,
   "metadata": {},
   "outputs": [],
   "source": [
    "### Importer un module de fonctions crées ad hoc\n",
    "##  ATTENTION : le fichier 'sparql_functions.py' doit se trouver \n",
    "#   dans un dossier qui se situe dans le chemin ('path') de recherche\n",
    "#   vu par le présent carnet Jupyter afin que\n",
    "#   l'importation fonctionne correctement\n",
    "\n",
    "import sys\n",
    "from importlib import reload\n",
    "\n",
    "# Add parent directory to the path\n",
    "sys.path.insert(0, '..')\n",
    "\n",
    "### If you want to add the parent-parent directory,\n",
    "sys.path.insert(0, '../..')\n",
    "\n",
    "\n",
    "import sparql_functions as spqf\n",
    "import network_analysis_functions as naf"
   ]
  },
  {
   "cell_type": "code",
   "execution_count": 5,
   "metadata": {},
   "outputs": [
    {
     "name": "stdout",
     "output_type": "stream",
     "text": [
      "<module 'network_analysis_functions' from 'c:\\\\Users\\\\rroll\\\\Documents\\\\GitHub\\\\2HS2179_militants-pour-la-paix\\\\notebooksJupyter\\\\network_analysis_functions.py'>\n"
     ]
    }
   ],
   "source": [
    "print(reload(naf))  "
   ]
  },
  {
   "cell_type": "markdown",
   "metadata": {},
   "source": [
    "## Get the data from the triplestore\n",
    "\n",
    "This notebook is based on the same relationships (and therefore data) as [the one about persons' relationships](wdt_persons_organisations_networks.ipynb), namely the relationship between persons and organisations as original information.\n",
    "\n",
    "Here, however, we will focus on relationships between institutions, so the treatment is different.\n"
   ]
  },
  {
   "cell_type": "code",
   "execution_count": 4,
   "metadata": {},
   "outputs": [],
   "source": [
    "## define SPARQL enpoint\n",
    "endpoint = \"https://ag132kz7jrzck2hf.allegrograph.cloud/repositories/peace/sparql\""
   ]
  },
  {
   "cell_type": "code",
   "execution_count": 5,
   "metadata": {},
   "outputs": [],
   "source": [
    "query = \"\"\"\n",
    "\n",
    "PREFIX franzOption_defaultDatasetBehavior: <franz:rdf>\n",
    "PREFIX wd: <http://www.wikidata.org/entity/>\n",
    "PREFIX wdt: <http://www.wikidata.org/prop/direct/>\n",
    "PREFIX rdf: <http://www.w3.org/1999/02/22-rdf-syntax-ns#>\n",
    "PREFIX rdfs: <http://www.w3.org/2000/01/rdf-schema#>\n",
    "PREFIX crm: <http://www.cidoc-crm.org/cidoc-crm/>\n",
    "PREFIX wikibase: <http://wikiba.se/ontology#>\n",
    "PREFIX bd: <http://www.bigdata.com/rdf#>\n",
    "\n",
    "\n",
    "SELECT ?person (MIN(?pLabel) AS ?personLabel)\n",
    "        (MIN(?birthYear) AS ?birthYear)\n",
    "        ?relationship \n",
    "        ?organisation (MIN(?oLabel) AS ?organisationLabel)\n",
    "        (COUNT(*) as ?n) \n",
    "        (GROUP_CONCAT(DISTINCT ?groupTypeLabel; separator=\" | \") AS ?groupTypes) \n",
    "        #(GROUP_CONCAT(DISTINCT ?countryLabel; separator=\" | \") AS ?countries) \n",
    "\n",
    "WHERE {\n",
    "        GRAPH <https://github.com/Raphix93/2HS2179_militants-pour-la-paix/blob/main/wikidata/graph/imported-data.md>\n",
    "        {\n",
    "        {?person a wd:Q5;\n",
    "           rdfs:label ?pLabel;\n",
    "           wdt:P569 ?birthYear.\n",
    "        }\n",
    "\n",
    "\n",
    "        {?person wdt:P108 ?organisation.\n",
    "        BIND('employment' AS ?relationship)\n",
    "        }   \n",
    "        UNION\n",
    "        {?person wdt:P463 ?organisation.\n",
    "        BIND('membership' AS ?relationship)\n",
    "        }   \n",
    "        UNION\n",
    "        {?person wdt:P69 ?organisation.\n",
    "        BIND('education' AS ?relationship)\n",
    "        }  \n",
    "        ?organisation rdfs:label ?oLabel;\n",
    "                # instance of\n",
    "                wdt:P31 ?groupType.\n",
    "        ?groupType rdfs:label ?groupTypeLabel         \n",
    "        \n",
    "        # OPTIONAL {\n",
    "        #    ?organisation wdt:P17 ?country.\n",
    "        #    ?country rdfs:label ?countryLabel.\n",
    "        # }\n",
    "\n",
    "         }        \n",
    "\n",
    "\n",
    "\n",
    "    }\n",
    "\n",
    "GROUP BY ?person ?relationship ?organisation   \n",
    "ORDER by ?person \n",
    "\"\"\""
   ]
  },
  {
   "cell_type": "code",
   "execution_count": 6,
   "metadata": {},
   "outputs": [
    {
     "name": "stdout",
     "output_type": "stream",
     "text": [
      "679\n",
      "[['http://www.wikidata.org/entity/Q133281500',\n",
      "  'Christina Gibb',\n",
      "  '1929',\n",
      "  'employment',\n",
      "  'http://www.wikidata.org/entity/Q17509124',\n",
      "  'Chilton Saint James School',\n",
      "  '3',\n",
      "  'combined school | private school | secondary school'],\n",
      " ['http://www.wikidata.org/entity/Q133281500',\n",
      "  'Christina Gibb',\n",
      "  '1929',\n",
      "  'employment',\n",
      "  'http://www.wikidata.org/entity/Q1150437',\n",
      "  'Victoria University of Wellington',\n",
      "  '1',\n",
      "  'public university'],\n",
      " ['http://www.wikidata.org/entity/Q133734026',\n",
      "  'Henning Zierock',\n",
      "  '1951',\n",
      "  'membership',\n",
      "  'http://www.wikidata.org/entity/Q133734335',\n",
      "  'Society Culture of Peace',\n",
      "  '1',\n",
      "  'peace organization']]\n"
     ]
    }
   ],
   "source": [
    "### Executer la requête avec les fonctions de la librairie locale\n",
    "try:\n",
    "    qr = spqf.get_json_sparql_result(endpoint,query)\n",
    "    out = [l for l in spqf.sparql_result_to_list(qr)]\n",
    "    print(len(out))\n",
    "    pprint.pprint(out[100:103])\n",
    "except Exception as e:\n",
    "    print(e)    \n"
   ]
  },
  {
   "cell_type": "markdown",
   "metadata": {},
   "source": [
    "## Inspect the data\n"
   ]
  },
  {
   "cell_type": "code",
   "execution_count": 7,
   "metadata": {},
   "outputs": [
    {
     "name": "stdout",
     "output_type": "stream",
     "text": [
      "Number:  679\n"
     ]
    },
    {
     "data": {
      "text/html": [
       "<div>\n",
       "<style scoped>\n",
       "    .dataframe tbody tr th:only-of-type {\n",
       "        vertical-align: middle;\n",
       "    }\n",
       "\n",
       "    .dataframe tbody tr th {\n",
       "        vertical-align: top;\n",
       "    }\n",
       "\n",
       "    .dataframe thead th {\n",
       "        text-align: right;\n",
       "    }\n",
       "</style>\n",
       "<table border=\"1\" class=\"dataframe\">\n",
       "  <thead>\n",
       "    <tr style=\"text-align: right;\">\n",
       "      <th></th>\n",
       "      <th>uriPer</th>\n",
       "      <th>labelPer</th>\n",
       "      <th>birthYear</th>\n",
       "      <th>relaType</th>\n",
       "      <th>uriOrg</th>\n",
       "      <th>labelOrg</th>\n",
       "      <th>nTypes</th>\n",
       "      <th>typesOrg</th>\n",
       "    </tr>\n",
       "  </thead>\n",
       "  <tbody>\n",
       "    <tr>\n",
       "      <th>10</th>\n",
       "      <td>http://www.wikidata.org/entity/Q105593</td>\n",
       "      <td>Friedrich Siegmund-Schultze</td>\n",
       "      <td>1885</td>\n",
       "      <td>employment</td>\n",
       "      <td>http://www.wikidata.org/entity/Q20266330</td>\n",
       "      <td>Frederick William University Berlin</td>\n",
       "      <td>1</td>\n",
       "      <td>university</td>\n",
       "    </tr>\n",
       "    <tr>\n",
       "      <th>11</th>\n",
       "      <td>http://www.wikidata.org/entity/Q105840219</td>\n",
       "      <td>Gwyn Kirk</td>\n",
       "      <td>1945</td>\n",
       "      <td>membership</td>\n",
       "      <td>http://www.wikidata.org/entity/Q5604092</td>\n",
       "      <td>Greenham Common Women's Peace Camp</td>\n",
       "      <td>1</td>\n",
       "      <td>peace camp</td>\n",
       "    </tr>\n",
       "    <tr>\n",
       "      <th>12</th>\n",
       "      <td>http://www.wikidata.org/entity/Q105876</td>\n",
       "      <td>Horst-Eberhard Richter</td>\n",
       "      <td>1923</td>\n",
       "      <td>employment</td>\n",
       "      <td>http://www.wikidata.org/entity/Q165980</td>\n",
       "      <td>University of Vienna</td>\n",
       "      <td>1</td>\n",
       "      <td>university</td>\n",
       "    </tr>\n",
       "  </tbody>\n",
       "</table>\n",
       "</div>"
      ],
      "text/plain": [
       "                                       uriPer                     labelPer  \\\n",
       "10     http://www.wikidata.org/entity/Q105593  Friedrich Siegmund-Schultze   \n",
       "11  http://www.wikidata.org/entity/Q105840219                    Gwyn Kirk   \n",
       "12     http://www.wikidata.org/entity/Q105876       Horst-Eberhard Richter   \n",
       "\n",
       "   birthYear    relaType                                    uriOrg  \\\n",
       "10      1885  employment  http://www.wikidata.org/entity/Q20266330   \n",
       "11      1945  membership   http://www.wikidata.org/entity/Q5604092   \n",
       "12      1923  employment    http://www.wikidata.org/entity/Q165980   \n",
       "\n",
       "                               labelOrg nTypes    typesOrg  \n",
       "10  Frederick William University Berlin      1  university  \n",
       "11   Greenham Common Women's Peace Camp      1  peace camp  \n",
       "12                 University of Vienna      1  university  "
      ]
     },
     "execution_count": 7,
     "metadata": {},
     "output_type": "execute_result"
    }
   ],
   "source": [
    "### Créer un DataFrame à partir du résultat\n",
    "df_p = pd.DataFrame(out)\n",
    "df_p.columns = ['uriPer', 'labelPer', 'birthYear', 'relaType', 'uriOrg', 'labelOrg', 'nTypes',\n",
    "                'typesOrg']\n",
    "print('Number: ',len(df_p))\n",
    "df_p.iloc[10:13,:]\n"
   ]
  },
  {
   "cell_type": "markdown",
   "metadata": {},
   "source": [
    "### Distribution of relationships in relation to birthYears of organisations members"
   ]
  },
  {
   "cell_type": "code",
   "execution_count": 9,
   "metadata": {},
   "outputs": [
    {
     "name": "stdout",
     "output_type": "stream",
     "text": [
      "[1800, 1850, 1900, 1950]\n"
     ]
    }
   ],
   "source": [
    "l_50 = list(range(1800, 2000, 50))\n",
    "print(l_50)"
   ]
  },
  {
   "cell_type": "code",
   "execution_count": 10,
   "metadata": {},
   "outputs": [],
   "source": [
    "### We adapt the periods manually,\n",
    "# we would like to have eight periods\n",
    "# making sense from an historical point of view \n",
    "lc = [1800, 1830, 1860, 1890, 1920, 1950, 1980, 2010]"
   ]
  },
  {
   "cell_type": "code",
   "execution_count": 11,
   "metadata": {},
   "outputs": [],
   "source": [
    "### 30 years periods, but some customisations\n",
    "lc = [1751, 1811, 1851, 1881, 1911, 1941, 1971, 2001]"
   ]
  },
  {
   "cell_type": "code",
   "execution_count": 12,
   "metadata": {},
   "outputs": [],
   "source": [
    "### convert birthYear to integer\n",
    "df_p.birthYear = df_p.birthYear.apply(lambda x : int(x))"
   ]
  },
  {
   "cell_type": "code",
   "execution_count": 13,
   "metadata": {},
   "outputs": [
    {
     "data": {
      "text/html": [
       "<div>\n",
       "<style scoped>\n",
       "    .dataframe tbody tr th:only-of-type {\n",
       "        vertical-align: middle;\n",
       "    }\n",
       "\n",
       "    .dataframe tbody tr th {\n",
       "        vertical-align: top;\n",
       "    }\n",
       "\n",
       "    .dataframe thead th {\n",
       "        text-align: right;\n",
       "    }\n",
       "</style>\n",
       "<table border=\"1\" class=\"dataframe\">\n",
       "  <thead>\n",
       "    <tr style=\"text-align: right;\">\n",
       "      <th></th>\n",
       "      <th>uriPer</th>\n",
       "      <th>labelPer</th>\n",
       "      <th>birthYear</th>\n",
       "      <th>relaType</th>\n",
       "      <th>uriOrg</th>\n",
       "      <th>labelOrg</th>\n",
       "      <th>nTypes</th>\n",
       "      <th>typesOrg</th>\n",
       "      <th>periods</th>\n",
       "    </tr>\n",
       "  </thead>\n",
       "  <tbody>\n",
       "    <tr>\n",
       "      <th>1</th>\n",
       "      <td>http://www.wikidata.org/entity/Q1001</td>\n",
       "      <td>Mahatma Gandhi</td>\n",
       "      <td>1869</td>\n",
       "      <td>membership</td>\n",
       "      <td>http://www.wikidata.org/entity/Q2154954</td>\n",
       "      <td>Vegetarian Society</td>\n",
       "      <td>2</td>\n",
       "      <td>charitable organization | club</td>\n",
       "      <td>1851-1880</td>\n",
       "    </tr>\n",
       "    <tr>\n",
       "      <th>5</th>\n",
       "      <td>http://www.wikidata.org/entity/Q105301557</td>\n",
       "      <td>Sofia Spångberg</td>\n",
       "      <td>1898</td>\n",
       "      <td>membership</td>\n",
       "      <td>http://www.wikidata.org/entity/Q105317493</td>\n",
       "      <td>Q105317493</td>\n",
       "      <td>1</td>\n",
       "      <td>voluntary association</td>\n",
       "      <td>1881-1910</td>\n",
       "    </tr>\n",
       "    <tr>\n",
       "      <th>10</th>\n",
       "      <td>http://www.wikidata.org/entity/Q105593</td>\n",
       "      <td>Friedrich Siegmund-Schultze</td>\n",
       "      <td>1885</td>\n",
       "      <td>employment</td>\n",
       "      <td>http://www.wikidata.org/entity/Q20266330</td>\n",
       "      <td>Frederick William University Berlin</td>\n",
       "      <td>1</td>\n",
       "      <td>university</td>\n",
       "      <td>1881-1910</td>\n",
       "    </tr>\n",
       "  </tbody>\n",
       "</table>\n",
       "</div>"
      ],
      "text/plain": [
       "                                       uriPer                     labelPer  \\\n",
       "1        http://www.wikidata.org/entity/Q1001               Mahatma Gandhi   \n",
       "5   http://www.wikidata.org/entity/Q105301557              Sofia Spångberg   \n",
       "10     http://www.wikidata.org/entity/Q105593  Friedrich Siegmund-Schultze   \n",
       "\n",
       "    birthYear    relaType                                     uriOrg  \\\n",
       "1        1869  membership    http://www.wikidata.org/entity/Q2154954   \n",
       "5        1898  membership  http://www.wikidata.org/entity/Q105317493   \n",
       "10       1885  employment   http://www.wikidata.org/entity/Q20266330   \n",
       "\n",
       "                               labelOrg nTypes  \\\n",
       "1                    Vegetarian Society      2   \n",
       "5                            Q105317493      1   \n",
       "10  Frederick William University Berlin      1   \n",
       "\n",
       "                          typesOrg    periods  \n",
       "1   charitable organization | club  1851-1880  \n",
       "5            voluntary association  1881-1910  \n",
       "10                      university  1881-1910  "
      ]
     },
     "execution_count": 13,
     "metadata": {},
     "output_type": "execute_result"
    }
   ],
   "source": [
    "### fonction pd.cut : https://pandas.pydata.org/pandas-docs/stable/reference/api/pandas.cut.html\n",
    "# On ajoute une nouvelle colonne qui contient la période sur la base de la liste précédente\n",
    "# et de la valeur de l'année\n",
    "df_p['periods'] = pd.cut(df_p['birthYear'], lc, right=False)\n",
    "\n",
    "### Transformer le code ajouté pour qu'il soit plus lisible\n",
    "# noter qu'on a arrondi les valeurs\n",
    "df_p['periods'] = df_p['periods'].apply(lambda x : str(int(x.left))+'-'+ str(int(x.right)-1))\n",
    "\n",
    "# Inspection\n",
    "df_p.iloc[[1,5,10]]"
   ]
  },
  {
   "cell_type": "code",
   "execution_count": 14,
   "metadata": {},
   "outputs": [],
   "source": [
    "df_p.to_csv('data/persons_organisations_from_organisations.csv', index=False, encoding='utf-8')\n"
   ]
  },
  {
   "cell_type": "markdown",
   "metadata": {},
   "source": [
    "#### Reload from CSV\n",
    "\n",
    "This is only possible if you already stored the data into a CSV, cf. below"
   ]
  },
  {
   "cell_type": "code",
   "execution_count": 14,
   "metadata": {},
   "outputs": [
    {
     "name": "stdout",
     "output_type": "stream",
     "text": [
      "679\n"
     ]
    },
    {
     "data": {
      "text/html": [
       "<div>\n",
       "<style scoped>\n",
       "    .dataframe tbody tr th:only-of-type {\n",
       "        vertical-align: middle;\n",
       "    }\n",
       "\n",
       "    .dataframe tbody tr th {\n",
       "        vertical-align: top;\n",
       "    }\n",
       "\n",
       "    .dataframe thead th {\n",
       "        text-align: right;\n",
       "    }\n",
       "</style>\n",
       "<table border=\"1\" class=\"dataframe\">\n",
       "  <thead>\n",
       "    <tr style=\"text-align: right;\">\n",
       "      <th></th>\n",
       "      <th>uriPer</th>\n",
       "      <th>labelPer</th>\n",
       "      <th>birthYear</th>\n",
       "      <th>relaType</th>\n",
       "      <th>uriOrg</th>\n",
       "      <th>labelOrg</th>\n",
       "      <th>nTypes</th>\n",
       "      <th>typesOrg</th>\n",
       "      <th>periods</th>\n",
       "      <th>listTypesOrg</th>\n",
       "    </tr>\n",
       "  </thead>\n",
       "  <tbody>\n",
       "    <tr>\n",
       "      <th>0</th>\n",
       "      <td>http://www.wikidata.org/entity/Q1001</td>\n",
       "      <td>Mahatma Gandhi</td>\n",
       "      <td>1869</td>\n",
       "      <td>membership</td>\n",
       "      <td>http://www.wikidata.org/entity/Q1233784</td>\n",
       "      <td>Inner Temple</td>\n",
       "      <td>3</td>\n",
       "      <td>educational institution | inns of court | univ...</td>\n",
       "      <td>1860-1889</td>\n",
       "      <td>['educational institution', 'inns of court', '...</td>\n",
       "    </tr>\n",
       "    <tr>\n",
       "      <th>1</th>\n",
       "      <td>http://www.wikidata.org/entity/Q1001</td>\n",
       "      <td>Mahatma Gandhi</td>\n",
       "      <td>1869</td>\n",
       "      <td>membership</td>\n",
       "      <td>http://www.wikidata.org/entity/Q2154954</td>\n",
       "      <td>Vegetarian Society</td>\n",
       "      <td>2</td>\n",
       "      <td>charitable organization | club</td>\n",
       "      <td>1860-1889</td>\n",
       "      <td>['charitable organization', 'club']</td>\n",
       "    </tr>\n",
       "  </tbody>\n",
       "</table>\n",
       "</div>"
      ],
      "text/plain": [
       "                                 uriPer        labelPer  birthYear  \\\n",
       "0  http://www.wikidata.org/entity/Q1001  Mahatma Gandhi       1869   \n",
       "1  http://www.wikidata.org/entity/Q1001  Mahatma Gandhi       1869   \n",
       "\n",
       "     relaType                                   uriOrg            labelOrg  \\\n",
       "0  membership  http://www.wikidata.org/entity/Q1233784        Inner Temple   \n",
       "1  membership  http://www.wikidata.org/entity/Q2154954  Vegetarian Society   \n",
       "\n",
       "   nTypes                                           typesOrg    periods  \\\n",
       "0       3  educational institution | inns of court | univ...  1860-1889   \n",
       "1       2                     charitable organization | club  1860-1889   \n",
       "\n",
       "                                        listTypesOrg  \n",
       "0  ['educational institution', 'inns of court', '...  \n",
       "1                ['charitable organization', 'club']  "
      ]
     },
     "execution_count": 14,
     "metadata": {},
     "output_type": "execute_result"
    }
   ],
   "source": [
    "### load from CSV\n",
    "\n",
    "file_add = 'data/persons_organisations_from_organisations.csv'\n",
    "df_p=pd.read_csv(file_add)\n",
    "print(len(df_p))\n",
    "df_p.head(2)"
   ]
  },
  {
   "cell_type": "code",
   "execution_count": 15,
   "metadata": {},
   "outputs": [
    {
     "name": "stdout",
     "output_type": "stream",
     "text": [
      "periods\n",
      "1800-1829     11\n",
      "1830-1859     16\n",
      "1860-1889    156\n",
      "1890-1919    156\n",
      "1920-1949    246\n",
      "1950-1979     92\n",
      "1980-2009      2\n",
      "dtype: int64\n"
     ]
    }
   ],
   "source": [
    "### Group by periods\n",
    "df_period = df_p.groupby(by='periods', observed=True).size()\n",
    "print(df_period)"
   ]
  },
  {
   "cell_type": "code",
   "execution_count": 16,
   "metadata": {},
   "outputs": [
    {
     "data": {
      "image/png": "[encoded data removed]",
      "text/plain": [
       "<Figure size 800x600 with 1 Axes>"
      ]
     },
     "metadata": {},
     "output_type": "display_data"
    }
   ],
   "source": [
    "ax = df_period.plot(kind='bar',rot=50, fontsize=10, figsize=(8,6))\n",
    "ax.bar_label(ax.containers[-1], size=10)\n",
    "plt.ylabel('Number')\n",
    "plt.xlabel('Periods')\n",
    "plt.title('Distribution of relationships in relation to generations')\n",
    "plt.show()"
   ]
  },
  {
   "cell_type": "markdown",
   "metadata": {},
   "source": [
    "### Inspect available relationships"
   ]
  },
  {
   "cell_type": "code",
   "execution_count": 17,
   "metadata": {},
   "outputs": [
    {
     "name": "stdout",
     "output_type": "stream",
     "text": [
      "relaType\n",
      "employment    357\n",
      "membership    322\n",
      "dtype: int64\n"
     ]
    }
   ],
   "source": [
    "### Available relationships\n",
    "print(df_p.groupby(by='relaType').size())"
   ]
  },
  {
   "cell_type": "code",
   "execution_count": 18,
   "metadata": {},
   "outputs": [
    {
     "name": "stdout",
     "output_type": "stream",
     "text": [
      "      periods    relaType  size\n",
      "0   1800-1829  membership    11\n",
      "1   1830-1859  employment     5\n",
      "2   1830-1859  membership    11\n",
      "3   1860-1889  employment    53\n",
      "4   1860-1889  membership   103\n",
      "5   1890-1919  employment    79\n",
      "6   1890-1919  membership    77\n",
      "7   1920-1949  employment   162\n",
      "8   1920-1949  membership    84\n",
      "9   1950-1979  employment    57\n",
      "10  1950-1979  membership    35\n",
      "11  1980-2009  employment     1\n",
      "12  1980-2009  membership     1\n"
     ]
    }
   ],
   "source": [
    "dfg_pr=df_p.groupby(by=['periods','relaType'], observed=True, as_index=False).size()\n",
    "print(dfg_pr)"
   ]
  },
  {
   "cell_type": "code",
   "execution_count": 19,
   "metadata": {},
   "outputs": [
    {
     "data": {
      "image/png": "[encoded data removed]",
      "text/plain": [
       "<Figure size 800x600 with 1 Axes>"
      ]
     },
     "metadata": {},
     "output_type": "display_data"
    }
   ],
   "source": [
    "%matplotlib inline\n",
    "plt.figure(figsize=(8, 6)) \n",
    "ax = sns.barplot(data=dfg_pr, x='periods', y='size', hue='relaType', palette='Blues')\n",
    "ax.tick_params(axis='x', labelrotation=45)\n"
   ]
  },
  {
   "cell_type": "markdown",
   "metadata": {},
   "source": [
    "### Clean up organisations type"
   ]
  },
  {
   "cell_type": "code",
   "execution_count": 20,
   "metadata": {},
   "outputs": [
    {
     "name": "stdout",
     "output_type": "stream",
     "text": [
      "679\n",
      "[['educational institution', 'inns of court', 'university building'],\n",
      " ['charitable organization', 'club'],\n",
      " ['public educational institution of the united states', 'university campus']]\n"
     ]
    }
   ],
   "source": [
    "### Transform types' strings to alphabetically sorted lists and delete additional white spaces\n",
    "df_p['listTypesOrg'] = df_p.typesOrg.apply(lambda x : sorted([e.strip().lower() for e in x.split('|')]))\n",
    "\n",
    "ll = df_p.listTypesOrg.to_list()\n",
    "print(len(ll))\n",
    "pprint.pprint(ll[:3])\n"
   ]
  },
  {
   "cell_type": "code",
   "execution_count": 21,
   "metadata": {},
   "outputs": [
    {
     "data": {
      "text/html": [
       "<div>\n",
       "<style scoped>\n",
       "    .dataframe tbody tr th:only-of-type {\n",
       "        vertical-align: middle;\n",
       "    }\n",
       "\n",
       "    .dataframe tbody tr th {\n",
       "        vertical-align: top;\n",
       "    }\n",
       "\n",
       "    .dataframe thead th {\n",
       "        text-align: right;\n",
       "    }\n",
       "</style>\n",
       "<table border=\"1\" class=\"dataframe\">\n",
       "  <thead>\n",
       "    <tr style=\"text-align: right;\">\n",
       "      <th></th>\n",
       "      <th>uriPer</th>\n",
       "      <th>labelPer</th>\n",
       "      <th>birthYear</th>\n",
       "      <th>relaType</th>\n",
       "      <th>uriOrg</th>\n",
       "      <th>labelOrg</th>\n",
       "      <th>nTypes</th>\n",
       "      <th>typesOrg</th>\n",
       "      <th>periods</th>\n",
       "      <th>listTypesOrg</th>\n",
       "    </tr>\n",
       "  </thead>\n",
       "  <tbody>\n",
       "    <tr>\n",
       "      <th>1</th>\n",
       "      <td>http://www.wikidata.org/entity/Q1001</td>\n",
       "      <td>Mahatma Gandhi</td>\n",
       "      <td>1869</td>\n",
       "      <td>membership</td>\n",
       "      <td>http://www.wikidata.org/entity/Q2154954</td>\n",
       "      <td>Vegetarian Society</td>\n",
       "      <td>2</td>\n",
       "      <td>charitable organization | club</td>\n",
       "      <td>1860-1889</td>\n",
       "      <td>[charitable organization, club]</td>\n",
       "    </tr>\n",
       "    <tr>\n",
       "      <th>5</th>\n",
       "      <td>http://www.wikidata.org/entity/Q105301557</td>\n",
       "      <td>Sofia Spångberg</td>\n",
       "      <td>1898</td>\n",
       "      <td>membership</td>\n",
       "      <td>http://www.wikidata.org/entity/Q105317493</td>\n",
       "      <td>Q105317493</td>\n",
       "      <td>1</td>\n",
       "      <td>voluntary association</td>\n",
       "      <td>1890-1919</td>\n",
       "      <td>[voluntary association]</td>\n",
       "    </tr>\n",
       "    <tr>\n",
       "      <th>10</th>\n",
       "      <td>http://www.wikidata.org/entity/Q105593</td>\n",
       "      <td>Friedrich Siegmund-Schultze</td>\n",
       "      <td>1885</td>\n",
       "      <td>employment</td>\n",
       "      <td>http://www.wikidata.org/entity/Q20266330</td>\n",
       "      <td>Frederick William University Berlin</td>\n",
       "      <td>1</td>\n",
       "      <td>university</td>\n",
       "      <td>1860-1889</td>\n",
       "      <td>[university]</td>\n",
       "    </tr>\n",
       "  </tbody>\n",
       "</table>\n",
       "</div>"
      ],
      "text/plain": [
       "                                       uriPer                     labelPer  \\\n",
       "1        http://www.wikidata.org/entity/Q1001               Mahatma Gandhi   \n",
       "5   http://www.wikidata.org/entity/Q105301557              Sofia Spångberg   \n",
       "10     http://www.wikidata.org/entity/Q105593  Friedrich Siegmund-Schultze   \n",
       "\n",
       "    birthYear    relaType                                     uriOrg  \\\n",
       "1        1869  membership    http://www.wikidata.org/entity/Q2154954   \n",
       "5        1898  membership  http://www.wikidata.org/entity/Q105317493   \n",
       "10       1885  employment   http://www.wikidata.org/entity/Q20266330   \n",
       "\n",
       "                               labelOrg  nTypes  \\\n",
       "1                    Vegetarian Society       2   \n",
       "5                            Q105317493       1   \n",
       "10  Frederick William University Berlin       1   \n",
       "\n",
       "                          typesOrg    periods                     listTypesOrg  \n",
       "1   charitable organization | club  1860-1889  [charitable organization, club]  \n",
       "5            voluntary association  1890-1919          [voluntary association]  \n",
       "10                      university  1860-1889                     [university]  "
      ]
     },
     "execution_count": 21,
     "metadata": {},
     "output_type": "execute_result"
    }
   ],
   "source": [
    "## Rebuild the sorted original texts after sorting\n",
    "df_p['typesOrg'] = df_p.listTypesOrg.apply(lambda x : ' | '.join(x))\n",
    "df_p.iloc[[1,5,10]]\n"
   ]
  },
  {
   "cell_type": "markdown",
   "metadata": {},
   "source": [
    "#### Organisations' types distribution"
   ]
  },
  {
   "cell_type": "code",
   "execution_count": 22,
   "metadata": {},
   "outputs": [
    {
     "name": "stdout",
     "output_type": "stream",
     "text": [
      "typesOrg\n",
      "organization                                                                                                     44\n",
      "international organization | non-governmental organization | nonprofit organization | women's organization       26\n",
      "international organization | peace organization | women's organization                                           22\n",
      "university                                                                                                       17\n",
      "academic publisher | learned society | nonprofit organization                                                    15\n",
      "colonial colleges | private not-for-profit educational institution | private university | research university    13\n",
      "intergovernmental organization | international organization                                                      10\n",
      "musical group                                                                                                    10\n",
      "political organization                                                                                            9\n",
      "private not-for-profit educational institution | university                                                       8\n",
      "dtype: int64\n"
     ]
    }
   ],
   "source": [
    "print(df_p.groupby('typesOrg').size().sort_values(ascending=False).iloc[:10])"
   ]
  },
  {
   "cell_type": "markdown",
   "metadata": {},
   "source": [
    "#### Save dataframe to CSV"
   ]
  },
  {
   "cell_type": "code",
   "execution_count": 23,
   "metadata": {},
   "outputs": [],
   "source": [
    "file_add = 'data/persons_organisations_from_organisations.csv'\n",
    "df_p.to_csv(file_add, index=False, sep=',', quotechar='\"')"
   ]
  },
  {
   "cell_type": "markdown",
   "metadata": {},
   "source": [
    "## Types of organisations\n",
    "\n",
    "Property **wdt:P31 instance of**\n",
    "\n",
    "\n",
    "We are trying to figure out if we can use these types to distinguish and categorise organisations. We will introduce high-level, research-driven classes that primarily serve a heuristic function and express no objective point of view."
   ]
  },
  {
   "cell_type": "code",
   "execution_count": 24,
   "metadata": {},
   "outputs": [
    {
     "data": {
      "text/html": [
       "<div>\n",
       "<style scoped>\n",
       "    .dataframe tbody tr th:only-of-type {\n",
       "        vertical-align: middle;\n",
       "    }\n",
       "\n",
       "    .dataframe tbody tr th {\n",
       "        vertical-align: top;\n",
       "    }\n",
       "\n",
       "    .dataframe thead th {\n",
       "        text-align: right;\n",
       "    }\n",
       "</style>\n",
       "<table border=\"1\" class=\"dataframe\">\n",
       "  <thead>\n",
       "    <tr style=\"text-align: right;\">\n",
       "      <th></th>\n",
       "      <th>typesOrg</th>\n",
       "      <th>number</th>\n",
       "      <th>numberOrg</th>\n",
       "    </tr>\n",
       "  </thead>\n",
       "  <tbody>\n",
       "    <tr>\n",
       "      <th>0</th>\n",
       "      <td>organization</td>\n",
       "      <td>44</td>\n",
       "      <td>1</td>\n",
       "    </tr>\n",
       "    <tr>\n",
       "      <th>1</th>\n",
       "      <td>international organization | non-governmental ...</td>\n",
       "      <td>26</td>\n",
       "      <td>4</td>\n",
       "    </tr>\n",
       "    <tr>\n",
       "      <th>2</th>\n",
       "      <td>international organization | peace organizatio...</td>\n",
       "      <td>22</td>\n",
       "      <td>3</td>\n",
       "    </tr>\n",
       "    <tr>\n",
       "      <th>3</th>\n",
       "      <td>university</td>\n",
       "      <td>17</td>\n",
       "      <td>1</td>\n",
       "    </tr>\n",
       "    <tr>\n",
       "      <th>4</th>\n",
       "      <td>academic publisher | learned society | nonprof...</td>\n",
       "      <td>15</td>\n",
       "      <td>3</td>\n",
       "    </tr>\n",
       "    <tr>\n",
       "      <th>5</th>\n",
       "      <td>colonial colleges | private not-for-profit edu...</td>\n",
       "      <td>13</td>\n",
       "      <td>4</td>\n",
       "    </tr>\n",
       "    <tr>\n",
       "      <th>6</th>\n",
       "      <td>intergovernmental organization | international...</td>\n",
       "      <td>10</td>\n",
       "      <td>2</td>\n",
       "    </tr>\n",
       "    <tr>\n",
       "      <th>7</th>\n",
       "      <td>musical group</td>\n",
       "      <td>10</td>\n",
       "      <td>1</td>\n",
       "    </tr>\n",
       "    <tr>\n",
       "      <th>8</th>\n",
       "      <td>political organization</td>\n",
       "      <td>9</td>\n",
       "      <td>1</td>\n",
       "    </tr>\n",
       "    <tr>\n",
       "      <th>9</th>\n",
       "      <td>private not-for-profit educational institution...</td>\n",
       "      <td>8</td>\n",
       "      <td>2</td>\n",
       "    </tr>\n",
       "  </tbody>\n",
       "</table>\n",
       "</div>"
      ],
      "text/plain": [
       "                                            typesOrg  number  numberOrg\n",
       "0                                       organization      44          1\n",
       "1  international organization | non-governmental ...      26          4\n",
       "2  international organization | peace organizatio...      22          3\n",
       "3                                         university      17          1\n",
       "4  academic publisher | learned society | nonprof...      15          3\n",
       "5  colonial colleges | private not-for-profit edu...      13          4\n",
       "6  intergovernmental organization | international...      10          2\n",
       "7                                      musical group      10          1\n",
       "8                             political organization       9          1\n",
       "9  private not-for-profit educational institution...       8          2"
      ]
     },
     "execution_count": 24,
     "metadata": {},
     "output_type": "execute_result"
    }
   ],
   "source": [
    "### Inspect the available composed types\n",
    "df_types = pd.DataFrame(df_p.groupby('typesOrg').size().sort_values(ascending=False))\n",
    "df_types.reset_index(inplace=True)\n",
    "df_types.columns=['typesOrg', 'number']\n",
    "df_types['numberOrg'] = df_types.typesOrg.apply( lambda x: len(x.split('|')))\n",
    "df_types.iloc[:10]"
   ]
  },
  {
   "cell_type": "code",
   "execution_count": 25,
   "metadata": {},
   "outputs": [],
   "source": [
    "### Print to CSV in order to inspect the data\n",
    "csv_file='data/network_organisations_types_groups.csv'\n",
    "df_types.to_csv(csv_file)"
   ]
  },
  {
   "cell_type": "markdown",
   "metadata": {},
   "source": [
    "### Add organisation main type"
   ]
  },
  {
   "cell_type": "code",
   "execution_count": 26,
   "metadata": {},
   "outputs": [
    {
     "data": {
      "text/html": [
       "<div>\n",
       "<style scoped>\n",
       "    .dataframe tbody tr th:only-of-type {\n",
       "        vertical-align: middle;\n",
       "    }\n",
       "\n",
       "    .dataframe tbody tr th {\n",
       "        vertical-align: top;\n",
       "    }\n",
       "\n",
       "    .dataframe thead th {\n",
       "        text-align: right;\n",
       "    }\n",
       "</style>\n",
       "<table border=\"1\" class=\"dataframe\">\n",
       "  <thead>\n",
       "    <tr style=\"text-align: right;\">\n",
       "      <th></th>\n",
       "      <th>uriPer</th>\n",
       "      <th>labelPer</th>\n",
       "      <th>birthYear</th>\n",
       "      <th>relaType</th>\n",
       "      <th>uriOrg</th>\n",
       "      <th>labelOrg</th>\n",
       "      <th>nTypes</th>\n",
       "      <th>typesOrg</th>\n",
       "      <th>periods</th>\n",
       "      <th>listTypesOrg</th>\n",
       "    </tr>\n",
       "  </thead>\n",
       "  <tbody>\n",
       "    <tr>\n",
       "      <th>0</th>\n",
       "      <td>http://www.wikidata.org/entity/Q1001</td>\n",
       "      <td>Mahatma Gandhi</td>\n",
       "      <td>1869</td>\n",
       "      <td>membership</td>\n",
       "      <td>http://www.wikidata.org/entity/Q1233784</td>\n",
       "      <td>Inner Temple</td>\n",
       "      <td>3</td>\n",
       "      <td>educational institution | inns of court | univ...</td>\n",
       "      <td>1860-1889</td>\n",
       "      <td>[educational institution, inns of court, unive...</td>\n",
       "    </tr>\n",
       "  </tbody>\n",
       "</table>\n",
       "</div>"
      ],
      "text/plain": [
       "                                 uriPer        labelPer  birthYear  \\\n",
       "0  http://www.wikidata.org/entity/Q1001  Mahatma Gandhi       1869   \n",
       "\n",
       "     relaType                                   uriOrg      labelOrg  nTypes  \\\n",
       "0  membership  http://www.wikidata.org/entity/Q1233784  Inner Temple       3   \n",
       "\n",
       "                                            typesOrg    periods  \\\n",
       "0  educational institution | inns of court | univ...  1860-1889   \n",
       "\n",
       "                                        listTypesOrg  \n",
       "0  [educational institution, inns of court, unive...  "
      ]
     },
     "execution_count": 26,
     "metadata": {},
     "output_type": "execute_result"
    }
   ],
   "source": [
    "### Inspect the data\n",
    "df_p.head(1)"
   ]
  },
  {
   "cell_type": "code",
   "execution_count": 27,
   "metadata": {},
   "outputs": [],
   "source": [
    "def code_organisation_main_type(x):\n",
    "    x = x.lower()\n",
    "    \n",
    "    if 'colonial colleges' in x \\\n",
    "        or 'private not-for-profit educational institution' in x \\\n",
    "        or 'private university' in x \\\n",
    "        or 'university' in x \\\n",
    "        or 'research university' in x:\n",
    "        return 'university'\n",
    "    \n",
    "    elif 'academic publisher' in x \\\n",
    "        or 'learned society' in x:\n",
    "        return 'learned society'\n",
    "    \n",
    "    elif 'international organization' in x \\\n",
    "        or 'intergovernmental organization' in x:\n",
    "        return 'international organisation'\n",
    "    \n",
    "    elif 'non-governmental organization' in x \\\n",
    "        or 'peace organization' in x \\\n",
    "        or \"women's organization\" in x:\n",
    "        return 'non-governmental organisation'\n",
    "    \n",
    "    elif 'political organization' in x:\n",
    "        return 'political organisation'\n",
    "    \n",
    "    elif 'musical group' in x:\n",
    "        return 'musical group'\n",
    "    \n",
    "    else:\n",
    "        return 'generic organisation'\n",
    " "
   ]
  },
  {
   "cell_type": "code",
   "execution_count": 28,
   "metadata": {},
   "outputs": [
    {
     "data": {
      "text/html": [
       "<div>\n",
       "<style scoped>\n",
       "    .dataframe tbody tr th:only-of-type {\n",
       "        vertical-align: middle;\n",
       "    }\n",
       "\n",
       "    .dataframe tbody tr th {\n",
       "        vertical-align: top;\n",
       "    }\n",
       "\n",
       "    .dataframe thead th {\n",
       "        text-align: right;\n",
       "    }\n",
       "</style>\n",
       "<table border=\"1\" class=\"dataframe\">\n",
       "  <thead>\n",
       "    <tr style=\"text-align: right;\">\n",
       "      <th></th>\n",
       "      <th>uriPer</th>\n",
       "      <th>labelPer</th>\n",
       "      <th>birthYear</th>\n",
       "      <th>relaType</th>\n",
       "      <th>uriOrg</th>\n",
       "      <th>labelOrg</th>\n",
       "      <th>nTypes</th>\n",
       "      <th>typesOrg</th>\n",
       "      <th>periods</th>\n",
       "      <th>listTypesOrg</th>\n",
       "      <th>orgMainType</th>\n",
       "    </tr>\n",
       "  </thead>\n",
       "  <tbody>\n",
       "    <tr>\n",
       "      <th>7</th>\n",
       "      <td>http://www.wikidata.org/entity/Q105583600</td>\n",
       "      <td>Ken Weller</td>\n",
       "      <td>1936</td>\n",
       "      <td>membership</td>\n",
       "      <td>http://www.wikidata.org/entity/Q7577135</td>\n",
       "      <td>Spies for Peace</td>\n",
       "      <td>1</td>\n",
       "      <td>group of humans</td>\n",
       "      <td>1920-1949</td>\n",
       "      <td>[group of humans]</td>\n",
       "      <td>generic organisation</td>\n",
       "    </tr>\n",
       "    <tr>\n",
       "      <th>8</th>\n",
       "      <td>http://www.wikidata.org/entity/Q105593</td>\n",
       "      <td>Friedrich Siegmund-Schultze</td>\n",
       "      <td>1885</td>\n",
       "      <td>employment</td>\n",
       "      <td>http://www.wikidata.org/entity/Q152087</td>\n",
       "      <td>Humboldt-Universität zu Berlin</td>\n",
       "      <td>4</td>\n",
       "      <td>comprehensive university | open-access publish...</td>\n",
       "      <td>1860-1889</td>\n",
       "      <td>[comprehensive university, open-access publish...</td>\n",
       "      <td>university</td>\n",
       "    </tr>\n",
       "    <tr>\n",
       "      <th>9</th>\n",
       "      <td>http://www.wikidata.org/entity/Q105593</td>\n",
       "      <td>Friedrich Siegmund-Schultze</td>\n",
       "      <td>1885</td>\n",
       "      <td>employment</td>\n",
       "      <td>http://www.wikidata.org/entity/Q168426</td>\n",
       "      <td>University of Münster</td>\n",
       "      <td>3</td>\n",
       "      <td>comprehensive university | local internet regi...</td>\n",
       "      <td>1860-1889</td>\n",
       "      <td>[comprehensive university, local internet regi...</td>\n",
       "      <td>university</td>\n",
       "    </tr>\n",
       "  </tbody>\n",
       "</table>\n",
       "</div>"
      ],
      "text/plain": [
       "                                      uriPer                     labelPer  \\\n",
       "7  http://www.wikidata.org/entity/Q105583600                   Ken Weller   \n",
       "8     http://www.wikidata.org/entity/Q105593  Friedrich Siegmund-Schultze   \n",
       "9     http://www.wikidata.org/entity/Q105593  Friedrich Siegmund-Schultze   \n",
       "\n",
       "   birthYear    relaType                                   uriOrg  \\\n",
       "7       1936  membership  http://www.wikidata.org/entity/Q7577135   \n",
       "8       1885  employment   http://www.wikidata.org/entity/Q152087   \n",
       "9       1885  employment   http://www.wikidata.org/entity/Q168426   \n",
       "\n",
       "                         labelOrg  nTypes  \\\n",
       "7                 Spies for Peace       1   \n",
       "8  Humboldt-Universität zu Berlin       4   \n",
       "9           University of Münster       3   \n",
       "\n",
       "                                            typesOrg    periods  \\\n",
       "7                                    group of humans  1920-1949   \n",
       "8  comprehensive university | open-access publish...  1860-1889   \n",
       "9  comprehensive university | local internet regi...  1860-1889   \n",
       "\n",
       "                                        listTypesOrg           orgMainType  \n",
       "7                                  [group of humans]  generic organisation  \n",
       "8  [comprehensive university, open-access publish...            university  \n",
       "9  [comprehensive university, local internet regi...            university  "
      ]
     },
     "execution_count": 28,
     "metadata": {},
     "output_type": "execute_result"
    }
   ],
   "source": [
    "df_p['orgMainType'] = df_p['typesOrg'].apply(lambda x : code_organisation_main_type(x))\n",
    "df_p.iloc[7:10]"
   ]
  },
  {
   "cell_type": "code",
   "execution_count": 29,
   "metadata": {},
   "outputs": [
    {
     "data": {
      "text/html": [
       "<div>\n",
       "<style scoped>\n",
       "    .dataframe tbody tr th:only-of-type {\n",
       "        vertical-align: middle;\n",
       "    }\n",
       "\n",
       "    .dataframe tbody tr th {\n",
       "        vertical-align: top;\n",
       "    }\n",
       "\n",
       "    .dataframe thead th {\n",
       "        text-align: right;\n",
       "    }\n",
       "</style>\n",
       "<table border=\"1\" class=\"dataframe\">\n",
       "  <thead>\n",
       "    <tr style=\"text-align: right;\">\n",
       "      <th></th>\n",
       "      <th>mainType</th>\n",
       "      <th>number</th>\n",
       "    </tr>\n",
       "  </thead>\n",
       "  <tbody>\n",
       "    <tr>\n",
       "      <th>0</th>\n",
       "      <td>generic organisation</td>\n",
       "      <td>275</td>\n",
       "    </tr>\n",
       "    <tr>\n",
       "      <th>6</th>\n",
       "      <td>university</td>\n",
       "      <td>229</td>\n",
       "    </tr>\n",
       "    <tr>\n",
       "      <th>1</th>\n",
       "      <td>international organisation</td>\n",
       "      <td>72</td>\n",
       "    </tr>\n",
       "    <tr>\n",
       "      <th>4</th>\n",
       "      <td>non-governmental organisation</td>\n",
       "      <td>40</td>\n",
       "    </tr>\n",
       "    <tr>\n",
       "      <th>2</th>\n",
       "      <td>learned society</td>\n",
       "      <td>36</td>\n",
       "    </tr>\n",
       "    <tr>\n",
       "      <th>5</th>\n",
       "      <td>political organisation</td>\n",
       "      <td>14</td>\n",
       "    </tr>\n",
       "    <tr>\n",
       "      <th>3</th>\n",
       "      <td>musical group</td>\n",
       "      <td>13</td>\n",
       "    </tr>\n",
       "  </tbody>\n",
       "</table>\n",
       "</div>"
      ],
      "text/plain": [
       "                        mainType  number\n",
       "0           generic organisation     275\n",
       "6                     university     229\n",
       "1     international organisation      72\n",
       "4  non-governmental organisation      40\n",
       "2                learned society      36\n",
       "5         political organisation      14\n",
       "3                  musical group      13"
      ]
     },
     "execution_count": 29,
     "metadata": {},
     "output_type": "execute_result"
    }
   ],
   "source": [
    "df_mainTypes = pd.DataFrame(df_p.groupby(by='orgMainType', as_index=False).size().sort_values(by='size',ascending=False))\n",
    "df_mainTypes.columns=['mainType', 'number']\n",
    "df_mainTypes"
   ]
  },
  {
   "cell_type": "code",
   "execution_count": 30,
   "metadata": {},
   "outputs": [
    {
     "data": {
      "text/html": [
       "<div>\n",
       "<style scoped>\n",
       "    .dataframe tbody tr th:only-of-type {\n",
       "        vertical-align: middle;\n",
       "    }\n",
       "\n",
       "    .dataframe tbody tr th {\n",
       "        vertical-align: top;\n",
       "    }\n",
       "\n",
       "    .dataframe thead th {\n",
       "        text-align: right;\n",
       "    }\n",
       "</style>\n",
       "<table border=\"1\" class=\"dataframe\">\n",
       "  <thead>\n",
       "    <tr style=\"text-align: right;\">\n",
       "      <th></th>\n",
       "      <th>typesOrg</th>\n",
       "      <th>orgMainType</th>\n",
       "      <th>number</th>\n",
       "      <th>numberOrg</th>\n",
       "    </tr>\n",
       "  </thead>\n",
       "  <tbody>\n",
       "    <tr>\n",
       "      <th>200</th>\n",
       "      <td>musical group</td>\n",
       "      <td>musical group</td>\n",
       "      <td>10</td>\n",
       "      <td>1</td>\n",
       "    </tr>\n",
       "    <tr>\n",
       "      <th>268</th>\n",
       "      <td>political organization</td>\n",
       "      <td>political organisation</td>\n",
       "      <td>9</td>\n",
       "      <td>1</td>\n",
       "    </tr>\n",
       "    <tr>\n",
       "      <th>277</th>\n",
       "      <td>private not-for-profit educational institution...</td>\n",
       "      <td>university</td>\n",
       "      <td>8</td>\n",
       "      <td>2</td>\n",
       "    </tr>\n",
       "  </tbody>\n",
       "</table>\n",
       "</div>"
      ],
      "text/plain": [
       "                                              typesOrg  \\\n",
       "200                                      musical group   \n",
       "268                             political organization   \n",
       "277  private not-for-profit educational institution...   \n",
       "\n",
       "                orgMainType  number  numberOrg  \n",
       "200           musical group      10          1  \n",
       "268  political organisation       9          1  \n",
       "277              university       8          2  "
      ]
     },
     "execution_count": 30,
     "metadata": {},
     "output_type": "execute_result"
    }
   ],
   "source": [
    "### Inspect the available composed types\n",
    "df_types = pd.DataFrame(df_p.groupby(['typesOrg', 'orgMainType'], as_index=False).\\\n",
    "                        size().sort_values(by='size',ascending=False))\n",
    "df_types.columns=['typesOrg', 'orgMainType', 'number']\n",
    "df_types['numberOrg'] = df_types.typesOrg.apply( lambda x: len(x.split('|')))\n",
    "### Print to CSV in order to inspect the data\n",
    "csv_file='data/network_organisations_with_main_types_groups.csv'\n",
    "df_types.to_csv(csv_file)\n",
    "\n",
    "df_types.iloc[7:10]"
   ]
  },
  {
   "cell_type": "markdown",
   "metadata": {},
   "source": [
    "# Create graphs"
   ]
  },
  {
   "cell_type": "code",
   "execution_count": 31,
   "metadata": {},
   "outputs": [
    {
     "name": "stdout",
     "output_type": "stream",
     "text": [
      "relaType\n",
      "employment    357\n",
      "membership    322\n",
      "dtype: int64\n"
     ]
    }
   ],
   "source": [
    "### Available relationships\n",
    "print(df_p.groupby(by='relaType').size())"
   ]
  },
  {
   "cell_type": "markdown",
   "metadata": {},
   "source": [
    "### Prepare the dataframe"
   ]
  },
  {
   "cell_type": "code",
   "execution_count": 32,
   "metadata": {},
   "outputs": [
    {
     "name": "stdout",
     "output_type": "stream",
     "text": [
      "679\n"
     ]
    }
   ],
   "source": [
    "### Select the columns that will be used\n",
    "df_prep = df_p[['uriPer','labelPer','birthYear','uriOrg', 'labelOrg', 'typesOrg', 'orgMainType', 'relaType', 'periods']].copy(deep=True)\n",
    "print(len(df_prep))"
   ]
  },
  {
   "cell_type": "markdown",
   "metadata": {},
   "source": [
    "### Features of organisations"
   ]
  },
  {
   "cell_type": "markdown",
   "metadata": {},
   "source": [
    "#### General grouping\n",
    "\n",
    "\n",
    "We first group by organisations, counting all relationships of persons which provides the total degree or number of members over the whole time "
   ]
  },
  {
   "cell_type": "code",
   "execution_count": 33,
   "metadata": {},
   "outputs": [
    {
     "data": {
      "text/html": [
       "<div>\n",
       "<style scoped>\n",
       "    .dataframe tbody tr th:only-of-type {\n",
       "        vertical-align: middle;\n",
       "    }\n",
       "\n",
       "    .dataframe tbody tr th {\n",
       "        vertical-align: top;\n",
       "    }\n",
       "\n",
       "    .dataframe thead th {\n",
       "        text-align: right;\n",
       "    }\n",
       "</style>\n",
       "<table border=\"1\" class=\"dataframe\">\n",
       "  <thead>\n",
       "    <tr style=\"text-align: right;\">\n",
       "      <th></th>\n",
       "      <th>uriOrg</th>\n",
       "      <th>labelOrg</th>\n",
       "      <th>typesOrg</th>\n",
       "      <th>orgMainType</th>\n",
       "      <th>tot_members_number</th>\n",
       "    </tr>\n",
       "  </thead>\n",
       "  <tbody>\n",
       "    <tr>\n",
       "      <th>395</th>\n",
       "      <td>http://www.wikidata.org/entity/Q689768</td>\n",
       "      <td>Women's International League for Peace and Fre...</td>\n",
       "      <td>international organization | non-governmental ...</td>\n",
       "      <td>international organisation</td>\n",
       "      <td>26</td>\n",
       "    </tr>\n",
       "    <tr>\n",
       "      <th>371</th>\n",
       "      <td>http://www.wikidata.org/entity/Q60564688</td>\n",
       "      <td>International Committee of Women for Permanent...</td>\n",
       "      <td>international organization | peace organizatio...</td>\n",
       "      <td>international organisation</td>\n",
       "      <td>19</td>\n",
       "    </tr>\n",
       "    <tr>\n",
       "      <th>293</th>\n",
       "      <td>http://www.wikidata.org/entity/Q463303</td>\n",
       "      <td>American Academy of Arts and Sciences</td>\n",
       "      <td>academic publisher | learned society | nonprof...</td>\n",
       "      <td>learned society</td>\n",
       "      <td>15</td>\n",
       "    </tr>\n",
       "    <tr>\n",
       "      <th>82</th>\n",
       "      <td>http://www.wikidata.org/entity/Q13371</td>\n",
       "      <td>Harvard University</td>\n",
       "      <td>colonial colleges | private not-for-profit edu...</td>\n",
       "      <td>university</td>\n",
       "      <td>13</td>\n",
       "    </tr>\n",
       "    <tr>\n",
       "      <th>317</th>\n",
       "      <td>http://www.wikidata.org/entity/Q49088</td>\n",
       "      <td>Columbia University</td>\n",
       "      <td>colonial colleges | organization | private not...</td>\n",
       "      <td>university</td>\n",
       "      <td>8</td>\n",
       "    </tr>\n",
       "    <tr>\n",
       "      <th>378</th>\n",
       "      <td>http://www.wikidata.org/entity/Q623009</td>\n",
       "      <td>National Woman's Party</td>\n",
       "      <td>organization | political party</td>\n",
       "      <td>generic organisation</td>\n",
       "      <td>7</td>\n",
       "    </tr>\n",
       "    <tr>\n",
       "      <th>15</th>\n",
       "      <td>http://www.wikidata.org/entity/Q1065</td>\n",
       "      <td>United Nations</td>\n",
       "      <td>intergovernmental organization | international...</td>\n",
       "      <td>international organisation</td>\n",
       "      <td>7</td>\n",
       "    </tr>\n",
       "    <tr>\n",
       "      <th>400</th>\n",
       "      <td>http://www.wikidata.org/entity/Q7045639</td>\n",
       "      <td>Nobel Women's Initiative</td>\n",
       "      <td>advocacy group | international organization</td>\n",
       "      <td>international organisation</td>\n",
       "      <td>6</td>\n",
       "    </tr>\n",
       "    <tr>\n",
       "      <th>292</th>\n",
       "      <td>http://www.wikidata.org/entity/Q463281</td>\n",
       "      <td>American Academy of Arts and Letters</td>\n",
       "      <td>academy of sciences | award</td>\n",
       "      <td>generic organisation</td>\n",
       "      <td>6</td>\n",
       "    </tr>\n",
       "    <tr>\n",
       "      <th>279</th>\n",
       "      <td>http://www.wikidata.org/entity/Q41506</td>\n",
       "      <td>Stanford University</td>\n",
       "      <td>open-access publisher | private not-for-profit...</td>\n",
       "      <td>university</td>\n",
       "      <td>6</td>\n",
       "    </tr>\n",
       "  </tbody>\n",
       "</table>\n",
       "</div>"
      ],
      "text/plain": [
       "                                       uriOrg  \\\n",
       "395    http://www.wikidata.org/entity/Q689768   \n",
       "371  http://www.wikidata.org/entity/Q60564688   \n",
       "293    http://www.wikidata.org/entity/Q463303   \n",
       "82      http://www.wikidata.org/entity/Q13371   \n",
       "317     http://www.wikidata.org/entity/Q49088   \n",
       "378    http://www.wikidata.org/entity/Q623009   \n",
       "15       http://www.wikidata.org/entity/Q1065   \n",
       "400   http://www.wikidata.org/entity/Q7045639   \n",
       "292    http://www.wikidata.org/entity/Q463281   \n",
       "279     http://www.wikidata.org/entity/Q41506   \n",
       "\n",
       "                                              labelOrg  \\\n",
       "395  Women's International League for Peace and Fre...   \n",
       "371  International Committee of Women for Permanent...   \n",
       "293              American Academy of Arts and Sciences   \n",
       "82                                  Harvard University   \n",
       "317                                Columbia University   \n",
       "378                             National Woman's Party   \n",
       "15                                      United Nations   \n",
       "400                           Nobel Women's Initiative   \n",
       "292               American Academy of Arts and Letters   \n",
       "279                                Stanford University   \n",
       "\n",
       "                                              typesOrg  \\\n",
       "395  international organization | non-governmental ...   \n",
       "371  international organization | peace organizatio...   \n",
       "293  academic publisher | learned society | nonprof...   \n",
       "82   colonial colleges | private not-for-profit edu...   \n",
       "317  colonial colleges | organization | private not...   \n",
       "378                     organization | political party   \n",
       "15   intergovernmental organization | international...   \n",
       "400        advocacy group | international organization   \n",
       "292                        academy of sciences | award   \n",
       "279  open-access publisher | private not-for-profit...   \n",
       "\n",
       "                    orgMainType  tot_members_number  \n",
       "395  international organisation                  26  \n",
       "371  international organisation                  19  \n",
       "293             learned society                  15  \n",
       "82                   university                  13  \n",
       "317                  university                   8  \n",
       "378        generic organisation                   7  \n",
       "15   international organisation                   7  \n",
       "400  international organisation                   6  \n",
       "292        generic organisation                   6  \n",
       "279                  university                   6  "
      ]
     },
     "execution_count": 33,
     "metadata": {},
     "output_type": "execute_result"
    }
   ],
   "source": [
    "### Memberships by organisations\n",
    "df_org = pd.DataFrame(df_prep.groupby(['uriOrg', 'labelOrg', 'typesOrg','orgMainType'],as_index=False).size())\n",
    "df_org.columns=['uriOrg', 'labelOrg', 'typesOrg', 'orgMainType','tot_members_number']\n",
    "df_org.sort_values('tot_members_number',ascending=False).iloc[:10]"
   ]
  },
  {
   "cell_type": "code",
   "execution_count": 34,
   "metadata": {},
   "outputs": [],
   "source": [
    "### Save list of organisations as CSV\n",
    "csv_file='data/network_organisations_with_main_type_and_number.csv'\n",
    "df_org.sort_values('tot_members_number',ascending=False).to_csv(csv_file)"
   ]
  },
  {
   "cell_type": "markdown",
   "metadata": {},
   "source": [
    "#### Group by period\n",
    "\n",
    "We then group by heuristic period (or generation)"
   ]
  },
  {
   "cell_type": "code",
   "execution_count": 35,
   "metadata": {},
   "outputs": [
    {
     "data": {
      "text/html": [
       "<div>\n",
       "<style scoped>\n",
       "    .dataframe tbody tr th:only-of-type {\n",
       "        vertical-align: middle;\n",
       "    }\n",
       "\n",
       "    .dataframe tbody tr th {\n",
       "        vertical-align: top;\n",
       "    }\n",
       "\n",
       "    .dataframe thead th {\n",
       "        text-align: right;\n",
       "    }\n",
       "</style>\n",
       "<table border=\"1\" class=\"dataframe\">\n",
       "  <thead>\n",
       "    <tr style=\"text-align: right;\">\n",
       "      <th></th>\n",
       "      <th>uriOrg</th>\n",
       "      <th>labelOrg</th>\n",
       "      <th>orgMainType</th>\n",
       "      <th>periods</th>\n",
       "      <th>period_members_number</th>\n",
       "    </tr>\n",
       "  </thead>\n",
       "  <tbody>\n",
       "    <tr>\n",
       "      <th>404</th>\n",
       "      <td>http://www.wikidata.org/entity/Q529564</td>\n",
       "      <td>Association of German Engineers</td>\n",
       "      <td>generic organisation</td>\n",
       "      <td>1800-1829</td>\n",
       "      <td>1</td>\n",
       "    </tr>\n",
       "    <tr>\n",
       "      <th>492</th>\n",
       "      <td>http://www.wikidata.org/entity/Q76391871</td>\n",
       "      <td>Société pour l'amélioration du sort de la femm...</td>\n",
       "      <td>generic organisation</td>\n",
       "      <td>1800-1829</td>\n",
       "      <td>1</td>\n",
       "    </tr>\n",
       "    <tr>\n",
       "      <th>362</th>\n",
       "      <td>http://www.wikidata.org/entity/Q4903078</td>\n",
       "      <td>Bible Christian Church</td>\n",
       "      <td>generic organisation</td>\n",
       "      <td>1800-1829</td>\n",
       "      <td>1</td>\n",
       "    </tr>\n",
       "    <tr>\n",
       "      <th>183</th>\n",
       "      <td>http://www.wikidata.org/entity/Q188771</td>\n",
       "      <td>French Academy of Sciences</td>\n",
       "      <td>generic organisation</td>\n",
       "      <td>1800-1829</td>\n",
       "      <td>1</td>\n",
       "    </tr>\n",
       "    <tr>\n",
       "      <th>248</th>\n",
       "      <td>http://www.wikidata.org/entity/Q2583804</td>\n",
       "      <td>American Anti-Imperialist League</td>\n",
       "      <td>political organisation</td>\n",
       "      <td>1800-1829</td>\n",
       "      <td>1</td>\n",
       "    </tr>\n",
       "  </tbody>\n",
       "</table>\n",
       "</div>"
      ],
      "text/plain": [
       "                                       uriOrg  \\\n",
       "404    http://www.wikidata.org/entity/Q529564   \n",
       "492  http://www.wikidata.org/entity/Q76391871   \n",
       "362   http://www.wikidata.org/entity/Q4903078   \n",
       "183    http://www.wikidata.org/entity/Q188771   \n",
       "248   http://www.wikidata.org/entity/Q2583804   \n",
       "\n",
       "                                              labelOrg  \\\n",
       "404                    Association of German Engineers   \n",
       "492  Société pour l'amélioration du sort de la femm...   \n",
       "362                             Bible Christian Church   \n",
       "183                         French Academy of Sciences   \n",
       "248                   American Anti-Imperialist League   \n",
       "\n",
       "                orgMainType    periods  period_members_number  \n",
       "404    generic organisation  1800-1829                      1  \n",
       "492    generic organisation  1800-1829                      1  \n",
       "362    generic organisation  1800-1829                      1  \n",
       "183    generic organisation  1800-1829                      1  \n",
       "248  political organisation  1800-1829                      1  "
      ]
     },
     "execution_count": 35,
     "metadata": {},
     "output_type": "execute_result"
    }
   ],
   "source": [
    "df_orgPeriod = pd.DataFrame(df_prep.groupby(['uriOrg', 'labelOrg', 'orgMainType', 'periods']).size(), columns=['period_members_number'])\n",
    "df_orgPeriod.reset_index(inplace=True)\n",
    "df_orgPeriod.sort_values(by='periods', ascending=True).head()"
   ]
  },
  {
   "cell_type": "markdown",
   "metadata": {},
   "source": [
    "#### Group by period and relationship type\n",
    "\n",
    "We then group by heuristic period (or generation) AND relationship type, i.e. which kind of relationship associates a person to an organisation in the bipartite network"
   ]
  },
  {
   "cell_type": "code",
   "execution_count": 36,
   "metadata": {},
   "outputs": [
    {
     "data": {
      "text/html": [
       "<div>\n",
       "<style scoped>\n",
       "    .dataframe tbody tr th:only-of-type {\n",
       "        vertical-align: middle;\n",
       "    }\n",
       "\n",
       "    .dataframe tbody tr th {\n",
       "        vertical-align: top;\n",
       "    }\n",
       "\n",
       "    .dataframe thead th {\n",
       "        text-align: right;\n",
       "    }\n",
       "</style>\n",
       "<table border=\"1\" class=\"dataframe\">\n",
       "  <thead>\n",
       "    <tr style=\"text-align: right;\">\n",
       "      <th></th>\n",
       "      <th>uriOrg</th>\n",
       "      <th>labelOrg</th>\n",
       "      <th>orgMainType</th>\n",
       "      <th>relaType</th>\n",
       "      <th>periods</th>\n",
       "      <th>period_members_number</th>\n",
       "    </tr>\n",
       "  </thead>\n",
       "  <tbody>\n",
       "    <tr>\n",
       "      <th>430</th>\n",
       "      <td>http://www.wikidata.org/entity/Q60564688</td>\n",
       "      <td>International Committee of Women for Permanent...</td>\n",
       "      <td>international organisation</td>\n",
       "      <td>membership</td>\n",
       "      <td>1860-1889</td>\n",
       "      <td>17</td>\n",
       "    </tr>\n",
       "    <tr>\n",
       "      <th>461</th>\n",
       "      <td>http://www.wikidata.org/entity/Q689768</td>\n",
       "      <td>Women's International League for Peace and Fre...</td>\n",
       "      <td>international organisation</td>\n",
       "      <td>membership</td>\n",
       "      <td>1860-1889</td>\n",
       "      <td>16</td>\n",
       "    </tr>\n",
       "    <tr>\n",
       "      <th>340</th>\n",
       "      <td>http://www.wikidata.org/entity/Q463303</td>\n",
       "      <td>American Academy of Arts and Sciences</td>\n",
       "      <td>learned society</td>\n",
       "      <td>membership</td>\n",
       "      <td>1920-1949</td>\n",
       "      <td>10</td>\n",
       "    </tr>\n",
       "    <tr>\n",
       "      <th>462</th>\n",
       "      <td>http://www.wikidata.org/entity/Q689768</td>\n",
       "      <td>Women's International League for Peace and Fre...</td>\n",
       "      <td>international organisation</td>\n",
       "      <td>membership</td>\n",
       "      <td>1890-1919</td>\n",
       "      <td>6</td>\n",
       "    </tr>\n",
       "    <tr>\n",
       "      <th>93</th>\n",
       "      <td>http://www.wikidata.org/entity/Q13371</td>\n",
       "      <td>Harvard University</td>\n",
       "      <td>university</td>\n",
       "      <td>employment</td>\n",
       "      <td>1920-1949</td>\n",
       "      <td>6</td>\n",
       "    </tr>\n",
       "  </tbody>\n",
       "</table>\n",
       "</div>"
      ],
      "text/plain": [
       "                                       uriOrg  \\\n",
       "430  http://www.wikidata.org/entity/Q60564688   \n",
       "461    http://www.wikidata.org/entity/Q689768   \n",
       "340    http://www.wikidata.org/entity/Q463303   \n",
       "462    http://www.wikidata.org/entity/Q689768   \n",
       "93      http://www.wikidata.org/entity/Q13371   \n",
       "\n",
       "                                              labelOrg  \\\n",
       "430  International Committee of Women for Permanent...   \n",
       "461  Women's International League for Peace and Fre...   \n",
       "340              American Academy of Arts and Sciences   \n",
       "462  Women's International League for Peace and Fre...   \n",
       "93                                  Harvard University   \n",
       "\n",
       "                    orgMainType    relaType    periods  period_members_number  \n",
       "430  international organisation  membership  1860-1889                     17  \n",
       "461  international organisation  membership  1860-1889                     16  \n",
       "340             learned society  membership  1920-1949                     10  \n",
       "462  international organisation  membership  1890-1919                      6  \n",
       "93                   university  employment  1920-1949                      6  "
      ]
     },
     "execution_count": 36,
     "metadata": {},
     "output_type": "execute_result"
    }
   ],
   "source": [
    "df_orgPeriodRelType = pd.DataFrame(df_prep.groupby(['uriOrg', 'labelOrg', 'orgMainType', 'relaType', 'periods']).size(), columns=['period_members_number'])\n",
    "df_orgPeriodRelType.reset_index(inplace=True)\n",
    "df_orgPeriodRelType.sort_values(by='period_members_number', ascending=False).head()"
   ]
  },
  {
   "cell_type": "code",
   "execution_count": 37,
   "metadata": {},
   "outputs": [
    {
     "name": "stdout",
     "output_type": "stream",
     "text": [
      "50\n"
     ]
    },
    {
     "data": {
      "text/html": [
       "<div>\n",
       "<style scoped>\n",
       "    .dataframe tbody tr th:only-of-type {\n",
       "        vertical-align: middle;\n",
       "    }\n",
       "\n",
       "    .dataframe tbody tr th {\n",
       "        vertical-align: top;\n",
       "    }\n",
       "\n",
       "    .dataframe thead th {\n",
       "        text-align: right;\n",
       "    }\n",
       "</style>\n",
       "<table border=\"1\" class=\"dataframe\">\n",
       "  <thead>\n",
       "    <tr style=\"text-align: right;\">\n",
       "      <th></th>\n",
       "      <th>periods</th>\n",
       "      <th>relaType</th>\n",
       "      <th>orgMainType</th>\n",
       "      <th>period_members_number</th>\n",
       "    </tr>\n",
       "  </thead>\n",
       "  <tbody>\n",
       "    <tr>\n",
       "      <th>3</th>\n",
       "      <td>1830-1859</td>\n",
       "      <td>employment</td>\n",
       "      <td>generic organisation</td>\n",
       "      <td>2</td>\n",
       "    </tr>\n",
       "    <tr>\n",
       "      <th>4</th>\n",
       "      <td>1830-1859</td>\n",
       "      <td>employment</td>\n",
       "      <td>university</td>\n",
       "      <td>3</td>\n",
       "    </tr>\n",
       "    <tr>\n",
       "      <th>8</th>\n",
       "      <td>1860-1889</td>\n",
       "      <td>employment</td>\n",
       "      <td>generic organisation</td>\n",
       "      <td>16</td>\n",
       "    </tr>\n",
       "    <tr>\n",
       "      <th>9</th>\n",
       "      <td>1860-1889</td>\n",
       "      <td>employment</td>\n",
       "      <td>international organisation</td>\n",
       "      <td>3</td>\n",
       "    </tr>\n",
       "    <tr>\n",
       "      <th>10</th>\n",
       "      <td>1860-1889</td>\n",
       "      <td>employment</td>\n",
       "      <td>non-governmental organisation</td>\n",
       "      <td>4</td>\n",
       "    </tr>\n",
       "    <tr>\n",
       "      <th>11</th>\n",
       "      <td>1860-1889</td>\n",
       "      <td>employment</td>\n",
       "      <td>university</td>\n",
       "      <td>30</td>\n",
       "    </tr>\n",
       "    <tr>\n",
       "      <th>18</th>\n",
       "      <td>1890-1919</td>\n",
       "      <td>employment</td>\n",
       "      <td>generic organisation</td>\n",
       "      <td>25</td>\n",
       "    </tr>\n",
       "    <tr>\n",
       "      <th>19</th>\n",
       "      <td>1890-1919</td>\n",
       "      <td>employment</td>\n",
       "      <td>international organisation</td>\n",
       "      <td>3</td>\n",
       "    </tr>\n",
       "    <tr>\n",
       "      <th>20</th>\n",
       "      <td>1890-1919</td>\n",
       "      <td>employment</td>\n",
       "      <td>non-governmental organisation</td>\n",
       "      <td>3</td>\n",
       "    </tr>\n",
       "    <tr>\n",
       "      <th>21</th>\n",
       "      <td>1890-1919</td>\n",
       "      <td>employment</td>\n",
       "      <td>university</td>\n",
       "      <td>48</td>\n",
       "    </tr>\n",
       "  </tbody>\n",
       "</table>\n",
       "</div>"
      ],
      "text/plain": [
       "      periods    relaType                    orgMainType  \\\n",
       "3   1830-1859  employment           generic organisation   \n",
       "4   1830-1859  employment                     university   \n",
       "8   1860-1889  employment           generic organisation   \n",
       "9   1860-1889  employment     international organisation   \n",
       "10  1860-1889  employment  non-governmental organisation   \n",
       "11  1860-1889  employment                     university   \n",
       "18  1890-1919  employment           generic organisation   \n",
       "19  1890-1919  employment     international organisation   \n",
       "20  1890-1919  employment  non-governmental organisation   \n",
       "21  1890-1919  employment                     university   \n",
       "\n",
       "    period_members_number  \n",
       "3                       2  \n",
       "4                       3  \n",
       "8                      16  \n",
       "9                       3  \n",
       "10                      4  \n",
       "11                     30  \n",
       "18                     25  \n",
       "19                      3  \n",
       "20                      3  \n",
       "21                     48  "
      ]
     },
     "execution_count": 37,
     "metadata": {},
     "output_type": "execute_result"
    }
   ],
   "source": [
    "### Number of relationships by period with type\n",
    "dfgt = df_orgPeriodRelType.groupby(['periods', 'relaType', 'orgMainType'], as_index=False)\\\n",
    "    .sum('members').sort_values(['relaType', 'periods'])\n",
    "file_addr='data/organisations_types_periods_distribution.csv'\n",
    "dfgt.sort_values(['relaType', 'periods']).to_csv(file_addr)\n",
    "print(len(dfgt))\n",
    "dfgt.iloc[:10]"
   ]
  },
  {
   "cell_type": "code",
   "execution_count": 38,
   "metadata": {},
   "outputs": [
    {
     "name": "stdout",
     "output_type": "stream",
     "text": [
      "12\n"
     ]
    }
   ],
   "source": [
    "### Number of relationships without period\n",
    "dfgw = df_orgPeriodRelType.groupby(['relaType', 'orgMainType'], as_index=False)\\\n",
    "    .sum('members').sort_values([ 'relaType', 'orgMainType'])\n",
    "print(len(dfgw))"
   ]
  },
  {
   "cell_type": "markdown",
   "metadata": {},
   "source": [
    "## Bivariate analysis: relationship, organisation type"
   ]
  },
  {
   "cell_type": "markdown",
   "metadata": {},
   "source": [
    "### Create the needed functions"
   ]
  },
  {
   "cell_type": "code",
   "execution_count": 39,
   "metadata": {},
   "outputs": [],
   "source": [
    "### ct_m : contingency table without totals in margins\n",
    "def bivariee_stats(ct_wm):\n",
    "    \n",
    "    \n",
    "    n = ct_wm.sum().sum()\n",
    "\n",
    "    ### Valeurs produites par la fonction de la librairie 'stats'\n",
    "    statistic, p, dof, expected = stats.chi2_contingency(ct_wm)\n",
    "\n",
    "    print('Chi2 :', statistic.round(2), ', dof :',dof)\n",
    "    print('p-value :', p)\n",
    "\n",
    "    \n",
    "\n",
    "    print('phi2 = inertie (variance totale) :', statistic/n)\n",
    "\n",
    "\n",
    "    ### Tableau à l'indépendance\n",
    "    dfe = round(pd.DataFrame(expected),4)\n",
    "\n",
    "    ### Coéfficient de Cramer\n",
    "    # https://docs.scipy.org/doc/scipy/reference/generated/scipy.stats.contingency.association.html\n",
    "\n",
    "    vc = stats.contingency.association(ct_wm, method='cramer')\n",
    "    print('Cramer: ', vc)\n",
    "\n",
    "    return None\n",
    "\n",
    "\n",
    "\n"
   ]
  },
  {
   "cell_type": "code",
   "execution_count": 40,
   "metadata": {},
   "outputs": [],
   "source": [
    "### ct_m : contingency tables with totals in margins\n",
    "def plot_chi2_residuals(ct_wm, figsize=(9,3)):\n",
    "    \n",
    "    D = ct_wm\n",
    "\n",
    "    \n",
    "    ### Valeurs produites par la fonction de la librairie 'stats'\n",
    "    statistic, p, dof, expected = stats.chi2_contingency(D)\n",
    "\n",
    "    ### Situation à l'indépendance\n",
    "    indep = pd.DataFrame(expected)\n",
    "    indep.columns = D.columns\n",
    "    indep.index = D.index\n",
    "\n",
    "    ### Résidus pondérés (avec le signe)\n",
    "    ### Doc. :\n",
    "    #   Rakotomalala, p.240\n",
    "    residus_ponderes = (round((D-indep)/np.sqrt(indep),2))\n",
    "    ### Résidus pondérés\n",
    "    tableau = residus_ponderes\n",
    "   \n",
    "\n",
    "    fig, ax = plt.subplots(figsize=figsize)         \n",
    "    # Sample figsize in inches\n",
    "    g = sns.heatmap(tableau, annot=tableau, cmap=\"coolwarm\", linewidths=.5, ax=ax)\n",
    "    xlabels = tableau.columns\n",
    "    px = g.set_xticklabels(xlabels, rotation=60, size=8, \n",
    "                           ha='right', rotation_mode='anchor')\n",
    "    ylabels = tableau.index\n",
    "    py = g.set_yticklabels(ylabels, rotation=20, size=8)\n",
    "    \n",
    "    plt.show()\n",
    "\n",
    "    return residus_ponderes"
   ]
  },
  {
   "cell_type": "markdown",
   "metadata": {},
   "source": [
    "### Explore contingency table : types of relationships, types of organisations"
   ]
  },
  {
   "cell_type": "code",
   "execution_count": 41,
   "metadata": {},
   "outputs": [
    {
     "data": {
      "text/html": [
       "<div>\n",
       "<style scoped>\n",
       "    .dataframe tbody tr th:only-of-type {\n",
       "        vertical-align: middle;\n",
       "    }\n",
       "\n",
       "    .dataframe tbody tr th {\n",
       "        vertical-align: top;\n",
       "    }\n",
       "\n",
       "    .dataframe thead th {\n",
       "        text-align: right;\n",
       "    }\n",
       "</style>\n",
       "<table border=\"1\" class=\"dataframe\">\n",
       "  <thead>\n",
       "    <tr style=\"text-align: right;\">\n",
       "      <th>relaType</th>\n",
       "      <th>employment</th>\n",
       "      <th>membership</th>\n",
       "      <th>Total</th>\n",
       "    </tr>\n",
       "    <tr>\n",
       "      <th>orgMainType</th>\n",
       "      <th></th>\n",
       "      <th></th>\n",
       "      <th></th>\n",
       "    </tr>\n",
       "  </thead>\n",
       "  <tbody>\n",
       "    <tr>\n",
       "      <th>generic organisation</th>\n",
       "      <td>102</td>\n",
       "      <td>173</td>\n",
       "      <td>275</td>\n",
       "    </tr>\n",
       "    <tr>\n",
       "      <th>international organisation</th>\n",
       "      <td>11</td>\n",
       "      <td>61</td>\n",
       "      <td>72</td>\n",
       "    </tr>\n",
       "    <tr>\n",
       "      <th>learned society</th>\n",
       "      <td>0</td>\n",
       "      <td>36</td>\n",
       "      <td>36</td>\n",
       "    </tr>\n",
       "    <tr>\n",
       "      <th>musical group</th>\n",
       "      <td>0</td>\n",
       "      <td>13</td>\n",
       "      <td>13</td>\n",
       "    </tr>\n",
       "    <tr>\n",
       "      <th>non-governmental organisation</th>\n",
       "      <td>15</td>\n",
       "      <td>25</td>\n",
       "      <td>40</td>\n",
       "    </tr>\n",
       "    <tr>\n",
       "      <th>political organisation</th>\n",
       "      <td>1</td>\n",
       "      <td>13</td>\n",
       "      <td>14</td>\n",
       "    </tr>\n",
       "    <tr>\n",
       "      <th>university</th>\n",
       "      <td>228</td>\n",
       "      <td>1</td>\n",
       "      <td>229</td>\n",
       "    </tr>\n",
       "    <tr>\n",
       "      <th>Total</th>\n",
       "      <td>357</td>\n",
       "      <td>322</td>\n",
       "      <td>679</td>\n",
       "    </tr>\n",
       "  </tbody>\n",
       "</table>\n",
       "</div>"
      ],
      "text/plain": [
       "relaType                       employment  membership  Total\n",
       "orgMainType                                                 \n",
       "generic organisation                  102         173    275\n",
       "international organisation             11          61     72\n",
       "learned society                         0          36     36\n",
       "musical group                           0          13     13\n",
       "non-governmental organisation          15          25     40\n",
       "political organisation                  1          13     14\n",
       "university                            228           1    229\n",
       "Total                                 357         322    679"
      ]
     },
     "execution_count": 41,
     "metadata": {},
     "output_type": "execute_result"
    }
   ],
   "source": [
    "\n",
    "\n",
    "### Contingency table\n",
    "X = 'relaType'\n",
    "Y = 'orgMainType'  \n",
    "\n",
    "ddf = df_prep[[X,Y]].pivot_table(index=Y,columns=X,observed=True, aggfunc=len,margins=True,margins_name=\"Total\").fillna(0).astype(int)\n",
    "ddf\n",
    "\n"
   ]
  },
  {
   "cell_type": "code",
   "execution_count": 42,
   "metadata": {},
   "outputs": [
    {
     "data": {
      "text/html": [
       "<div>\n",
       "<style scoped>\n",
       "    .dataframe tbody tr th:only-of-type {\n",
       "        vertical-align: middle;\n",
       "    }\n",
       "\n",
       "    .dataframe tbody tr th {\n",
       "        vertical-align: top;\n",
       "    }\n",
       "\n",
       "    .dataframe thead th {\n",
       "        text-align: right;\n",
       "    }\n",
       "</style>\n",
       "<table border=\"1\" class=\"dataframe\">\n",
       "  <thead>\n",
       "    <tr style=\"text-align: right;\">\n",
       "      <th>relaType</th>\n",
       "      <th>employment</th>\n",
       "      <th>membership</th>\n",
       "    </tr>\n",
       "    <tr>\n",
       "      <th>orgMainType</th>\n",
       "      <th></th>\n",
       "      <th></th>\n",
       "    </tr>\n",
       "  </thead>\n",
       "  <tbody>\n",
       "    <tr>\n",
       "      <th>generic organisation</th>\n",
       "      <td>102</td>\n",
       "      <td>173</td>\n",
       "    </tr>\n",
       "    <tr>\n",
       "      <th>international organisation</th>\n",
       "      <td>11</td>\n",
       "      <td>61</td>\n",
       "    </tr>\n",
       "    <tr>\n",
       "      <th>learned society</th>\n",
       "      <td>0</td>\n",
       "      <td>36</td>\n",
       "    </tr>\n",
       "    <tr>\n",
       "      <th>musical group</th>\n",
       "      <td>0</td>\n",
       "      <td>13</td>\n",
       "    </tr>\n",
       "    <tr>\n",
       "      <th>non-governmental organisation</th>\n",
       "      <td>15</td>\n",
       "      <td>25</td>\n",
       "    </tr>\n",
       "    <tr>\n",
       "      <th>political organisation</th>\n",
       "      <td>1</td>\n",
       "      <td>13</td>\n",
       "    </tr>\n",
       "    <tr>\n",
       "      <th>university</th>\n",
       "      <td>228</td>\n",
       "      <td>1</td>\n",
       "    </tr>\n",
       "  </tbody>\n",
       "</table>\n",
       "</div>"
      ],
      "text/plain": [
       "relaType                       employment  membership\n",
       "orgMainType                                          \n",
       "generic organisation                  102         173\n",
       "international organisation             11          61\n",
       "learned society                         0          36\n",
       "musical group                           0          13\n",
       "non-governmental organisation          15          25\n",
       "political organisation                  1          13\n",
       "university                            228           1"
      ]
     },
     "execution_count": 42,
     "metadata": {},
     "output_type": "execute_result"
    }
   ],
   "source": [
    "ct_wm = ddf.iloc[:-1,:-1].copy(deep=True)\n",
    "ct_wm"
   ]
  },
  {
   "cell_type": "code",
   "execution_count": 43,
   "metadata": {},
   "outputs": [
    {
     "name": "stdout",
     "output_type": "stream",
     "text": [
      "Chi2 : 338.95 , dof : 6\n",
      "p-value : 3.627845453123343e-70\n",
      "phi2 = inertie (variance totale) : 0.4991941046497402\n",
      "Cramer:  0.7065366973128432\n"
     ]
    }
   ],
   "source": [
    "### We observe a strong relationship between these two variables\n",
    "\n",
    "bivariee_stats(ct_wm)"
   ]
  },
  {
   "cell_type": "code",
   "execution_count": 44,
   "metadata": {},
   "outputs": [
    {
     "data": {
      "image/png": "[encoded data removed]",
      "text/plain": [
       "<Figure size 500x800 with 2 Axes>"
      ]
     },
     "metadata": {},
     "output_type": "display_data"
    }
   ],
   "source": [
    "pp = plot_chi2_residuals(ct_wm, figsize=(5, 8))"
   ]
  }
 ],
 "metadata": {
  "kernelspec": {
   "display_name": "Python 3",
   "language": "python",
   "name": "python3"
  },
  "language_info": {
   "codemirror_mode": {
    "name": "ipython",
    "version": 3
   },
   "file_extension": ".py",
   "mimetype": "text/x-python",
   "name": "python",
   "nbconvert_exporter": "python",
   "pygments_lexer": "ipython3",
   "version": "3.10.11"
  }
 },
 "nbformat": 4,
 "nbformat_minor": 2
}
