{
 "cells": [
  {
   "cell_type": "code",
   "execution_count": null,
   "metadata": {},
   "outputs": [],
   "source": [
    "import pandas as pd\n",
    "import matplotlib.pyplot as plt\n",
    "import seaborn as sns\n",
    "import sqlite3 as sql"
   ]
  },
  {
   "cell_type": "code",
   "execution_count": null,
   "metadata": {},
   "outputs": [],
   "source": [
    "### Define the path to the file (a string in a variable 'db_file')\n",
    "# if the data directory label is at the same level as the notebook,\n",
    "# then the path is 'data/peace_import_auto.db'\n",
    "db_file_address = '../data/peace_import_auto.db'"
   ]
  },
  {
   "cell_type": "code",
   "execution_count": null,
   "metadata": {},
   "outputs": [],
   "source": [
    "# Connexion à la base de données\n",
    "try:\n",
    "    cn = sql.connect(db_file_address)\n",
    "    print(\"Connexion à la base de données réussie.\")\n",
    "except Exception as e:\n",
    "    # En cas d'échec de la connexion\n",
    "    print(\"Erreur lors de la connexion à la base de données :\", e)\n",
    "    raise\n"
   ]
  },
  {
   "cell_type": "code",
   "execution_count": null,
   "metadata": {},
   "outputs": [],
   "source": [
    "# Requête SQL pour extraire les 10 occurrences les plus fréquentes dans la colonne 'name'\n",
    "query = \"\"\"\n",
    "SELECT name, COUNT(*) as occurrence\n",
    "FROM dbp_occupation\n",
    "GROUP BY name\n",
    "ORDER BY occurrence DESC\n",
    "LIMIT 10;\n",
    "\"\"\""
   ]
  },
  {
   "cell_type": "code",
   "execution_count": null,
   "metadata": {},
   "outputs": [],
   "source": [
    "# Exécuter la requête et charger les données dans un DataFrame\n",
    "df = pd.read_sql_query(query, cn)\n",
    "cn.close()"
   ]
  },
  {
   "cell_type": "code",
   "execution_count": null,
   "metadata": {},
   "outputs": [],
   "source": [
    "# Inspecter les premières lignes des données\n",
    "print(\"Top 10 des noms les plus fréquents :\")\n",
    "print(df)"
   ]
  },
  {
   "cell_type": "code",
   "execution_count": null,
   "metadata": {},
   "outputs": [],
   "source": [
    "# Visualiser les 10 occurrences les plus fréquentes\n",
    "plt.figure(figsize=(10, 6))\n",
    "sns.barplot(x=df['occurrence'], y=df['name'], palette=\"viridis\")\n",
    "plt.title(\"Distribution des 10 occurrences les plus fréquentes dans la colonne 'name'\")\n",
    "plt.xlabel(\"Nombre d'occurrences\")\n",
    "plt.ylabel(\"Noms\")\n",
    "plt.tight_layout()"
   ]
  },
  {
   "cell_type": "code",
   "execution_count": null,
   "metadata": {},
   "outputs": [],
   "source": [
    "# Sauvegarder la visualisation en PNG\n",
    "output_file = \"top_10_name_distribution.png\"\n",
    "plt.savefig(output_file)\n",
    "print(f\"La visualisation a été sauvegardée sous : {output_file}\")"
   ]
  }
 ],
 "metadata": {
  "kernelspec": {
   "display_name": "Python 3",
   "language": "python",
   "name": "python3"
  },
  "language_info": {
   "name": "python",
   "version": "3.10.11"
  }
 },
 "nbformat": 4,
 "nbformat_minor": 2
}
